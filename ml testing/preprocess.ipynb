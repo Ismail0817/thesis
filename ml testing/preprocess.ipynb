{
 "cells": [
  {
   "cell_type": "code",
   "execution_count": 47,
   "metadata": {},
   "outputs": [
    {
     "name": "stdout",
     "output_type": "stream",
     "text": [
      "            utc  Temperature[C]  PM1.0  PM2.5  NC0.5  NC1.0  Fire Alarm\n",
      "0  1.654738e+09          -7.530   2.32   2.41  15.97  2.491         1.0\n",
      "1  1.654738e+09          -7.536   2.31   2.40  15.93  2.484         1.0\n",
      "2  1.654738e+09          -7.541   2.30   2.39  15.80  2.464         1.0\n",
      "3  1.654738e+09          -7.547   2.28   2.37  15.68  2.444         1.0\n",
      "4  1.654738e+09          -7.552   2.29   2.38  15.76  2.458         1.0\n",
      "5  1.654738e+09          -7.558    NaN    NaN    NaN    NaN         NaN \n",
      "\n"
     ]
    }
   ],
   "source": [
    "import pandas as pd\n",
    "data = [{'utc': 1654738164.0, 'Temperature[C]': -7.53, 'PM1.0': 2.32, 'PM2.5': 2.41, 'NC0.5': 15.97, 'NC1.0': 2.491, 'Fire Alarm': 1.0}, {'utc': 1654738165.0, 'Temperature[C]': -7.536, 'PM1.0': 2.31, 'PM2.5': 2.4, 'NC0.5': 15.93, 'NC1.0': 2.484, 'Fire Alarm': 1.0}, {'utc': 1654738166.0, 'Temperature[C]': -7.541, 'PM1.0': 2.3, 'PM2.5': 2.39, 'NC0.5': 15.8, 'NC1.0': 2.464, 'Fire Alarm': 1.0}, {'utc': 1654738167.0, 'Temperature[C]': -7.547, 'PM1.0': 2.28, 'PM2.5': 2.37, 'NC0.5': 15.68, 'NC1.0': 2.444, 'Fire Alarm': 1.0}, {'utc': 1654738168.0, 'Temperature[C]': -7.552, 'PM1.0': 2.29, 'PM2.5': 2.38, 'NC0.5': 15.76, 'NC1.0': 2.458, 'Fire Alarm': 1.0}, {'utc': 1654738169.0, 'Temperature[C]': -7.558}]\n",
    "df = pd.DataFrame(data)\n",
    "print(df, \"\\n\",  flush=True)"
   ]
  },
  {
   "cell_type": "code",
   "execution_count": 48,
   "metadata": {},
   "outputs": [
    {
     "name": "stdout",
     "output_type": "stream",
     "text": [
      "            utc  Temperature[C]  PM1.0  PM2.5  NC0.5  NC1.0  Fire Alarm\n",
      "0  1.654738e+09          -7.530   2.32   2.41  15.97  2.491         1.0\n",
      "1  1.654738e+09          -7.536   2.31   2.40  15.93  2.484         1.0\n",
      "2  1.654738e+09          -7.541   2.30   2.39  15.80  2.464         1.0\n",
      "3  1.654738e+09          -7.547   2.28   2.37  15.68  2.444         1.0\n",
      "4  1.654738e+09          -7.552   2.29   2.38  15.76  2.458         1.0\n"
     ]
    }
   ],
   "source": [
    "\n",
    "# Drop rows with NaN values\n",
    "df = df.dropna()\n",
    "\n",
    "# Print the preprocessed DataFrame\n",
    "print(df)\n"
   ]
  },
  {
   "cell_type": "code",
   "execution_count": 49,
   "metadata": {},
   "outputs": [
    {
     "name": "stdout",
     "output_type": "stream",
     "text": [
      "            utc  Temperature[C]  PM1.0  PM2.5  NC0.5  NC1.0  Fire Alarm\n",
      "0  1.654738e+09          -7.530   2.32   2.41  15.97  2.491         1.0\n",
      "1  1.654738e+09          -7.536   2.31   2.40  15.93  2.484         1.0\n",
      "2  1.654738e+09          -7.541   2.30   2.39  15.80  2.464         1.0\n",
      "3  1.654738e+09          -7.547   2.28   2.37  15.68  2.444         1.0\n",
      "4  1.654738e+09          -7.552   2.29   2.38  15.76  2.458         1.0\n"
     ]
    }
   ],
   "source": [
    "print(df)"
   ]
  },
  {
   "cell_type": "code",
   "execution_count": 51,
   "metadata": {},
   "outputs": [
    {
     "name": "stdout",
     "output_type": "stream",
     "text": [
      "Scaled DataFrame:\n",
      "            utc  Temperature[C]         PM1.0         PM2.5     NC0.5  \\\n",
      "0  1.654738e+09        1.439213  1.414214e+00  1.414214e+00  1.319803   \n",
      "1  1.654738e+09        0.668206  7.071068e-01  7.071068e-01  0.948027   \n",
      "2  1.654738e+09        0.025700 -6.283862e-15  6.199787e-15 -0.260243   \n",
      "3  1.654738e+09       -0.745307 -1.414214e+00 -1.414214e+00 -1.375569   \n",
      "4  1.654738e+09       -1.387813 -7.071068e-01 -7.071068e-01 -0.632018   \n",
      "\n",
      "      NC1.0  Fire Alarm  \n",
      "0  1.326658         1.0  \n",
      "1  0.919351         1.0  \n",
      "2 -0.244384         1.0  \n",
      "3 -1.408120         1.0  \n",
      "4 -0.593505         1.0  \n",
      "[{\"utc\":1654738164.0,\"Temperature[C]\":1.4392130537,\"PM1.0\":1.4142135624,\"PM2.5\":1.4142135624,\"NC0.5\":1.3198029214,\"NC1.0\":1.3266580827,\"Fire Alarm\":1.0},{\"utc\":1654738165.0,\"Temperature[C]\":0.6682060607,\"PM1.0\":0.7071067812,\"PM2.5\":0.7071067812,\"NC0.5\":0.9480274505,\"NC1.0\":0.9193507766,\"Fire Alarm\":1.0},{\"utc\":1654738166.0,\"Temperature[C]\":0.0257002331,\"PM1.0\":-0.0,\"PM2.5\":0.0,\"NC0.5\":-0.2602428296,\"NC1.0\":-0.2443843837,\"Fire Alarm\":1.0},{\"utc\":1654738167.0,\"Temperature[C]\":-0.74530676,\"PM1.0\":-1.4142135624,\"PM2.5\":-1.4142135624,\"NC0.5\":-1.375569242,\"NC1.0\":-1.408119544,\"Fire Alarm\":1.0},{\"utc\":1654738168.0,\"Temperature[C]\":-1.3878125875,\"PM1.0\":-0.7071067812,\"PM2.5\":-0.7071067812,\"NC0.5\":-0.6320183004,\"NC1.0\":-0.5935049317,\"Fire Alarm\":1.0}]\n"
     ]
    }
   ],
   "source": [
    "from sklearn.preprocessing import StandardScaler\n",
    "columns_to_scale = df.columns.difference(['utc', 'Fire Alarm'])\n",
    "\n",
    "# # Define columns to scale (exclude 'utc')\n",
    "# columns_to_scale = df.columns.difference(['utc'])\n",
    "\n",
    "# Initialize StandardScaler\n",
    "scaler = StandardScaler()\n",
    "\n",
    "# Apply scaler on the selected columns\n",
    "df[columns_to_scale] = scaler.fit_transform(df[columns_to_scale])\n",
    "\n",
    "# Print the scaled DataFrame\n",
    "print(\"Scaled DataFrame:\")\n",
    "print(df)\n",
    "\n",
    "# Convert DataFrame to JSON format\n",
    "json_data = df.to_json(orient='records')\n",
    "\n",
    "print(json_data)"
   ]
  },
  {
   "cell_type": "code",
   "execution_count": null,
   "metadata": {},
   "outputs": [],
   "source": [
    "import pandas as pd\n",
    "import numpy as np\n",
    "from sklearn.preprocessing import StandardScaler\n",
    "import requests\n",
    "import json\n",
    "\n",
    "# Sample data\n",
    "data = [\n",
    "    {'utc': 1654738164.0, 'Temperature[C]': -7.53, 'PM1.0': 2.32, 'PM2.5': 2.41, 'NC0.5': 15.97, 'NC1.0': 2.491},\n",
    "    {'utc': 1654738165.0, 'Temperature[C]': -7.536, 'PM1.0': 2.31, 'PM2.5': 2.4, 'NC0.5': 15.93, 'NC1.0': 2.484},\n",
    "    {'utc': 1654738166.0, 'Temperature[C]': -7.541, 'PM1.0': 2.3, 'PM2.5': 2.39, 'NC0.5': 15.8, 'NC1.0': 2.464},\n",
    "    {'utc': 1654738167.0, 'Temperature[C]': -7.547, 'PM1.0': 2.28, 'PM2.5': 2.37, 'NC0.5': 15.68, 'NC1.0': 2.444},\n",
    "    {'utc': 1654738168.0, 'Temperature[C]': -7.552, 'PM1.0': 2.29, 'PM2.5': 2.38, 'NC0.5': 15.76, 'NC1.0': 2.458}\n",
    "]\n",
    "\n",
    "# Create DataFrame\n",
    "df = pd.DataFrame(data)\n",
    "\n",
    "# Define columns to scale (exclude 'utc')\n",
    "columns_to_scale = df.columns.difference(['utc'])\n",
    "\n",
    "# Initialize StandardScaler\n",
    "scaler = StandardScaler()\n",
    "\n",
    "# Apply scaler on the selected columns\n",
    "df[columns_to_scale] = scaler.fit_transform(df[columns_to_scale])\n",
    "\n",
    "# Print the scaled DataFrame\n",
    "print(\"Scaled DataFrame:\")\n",
    "print(df)\n",
    "\n",
    "# Convert DataFrame to JSON format\n",
    "json_data = df.to_json(orient='records')\n",
    "\n",
    "# Define the API endpoint URL\n",
    "api_url = \"http://your_api_endpoint_here\"\n",
    "\n",
    "# Send the JSON data to the API endpoint\n",
    "response = requests.post(api_url, json=json.loads(json_data))\n",
    "\n",
    "# Print the response from the API\n",
    "print(\"Status Code:\", response.status_code)\n",
    "print(\"Response JSON:\", response.json())\n",
    "\n"
   ]
  },
  {
   "cell_type": "code",
   "execution_count": 9,
   "metadata": {},
   "outputs": [
    {
     "name": "stdout",
     "output_type": "stream",
     "text": [
      "              UTC  Temperature[C]  PM1.0  PM2.5  NC0.5  NC1.0  Fire Alarm\n",
      "51142  1654712187          27.450   2.04   2.12  14.05  2.191           0\n",
      "25207  1654761556          11.190   0.12   0.26   0.54  0.285           0\n",
      "51143  1654712188          27.410   2.16   2.24  14.83  2.313           0\n",
      "25208  1654761557          11.160   0.12   0.24   0.51  0.270           0\n",
      "51144  1654712189          27.360   2.19   2.28  15.07  2.350           0\n",
      "...           ...             ...    ...    ...    ...    ...         ...\n",
      "62627  1655130049          18.867   0.57   0.60   3.95  0.617           0\n",
      "25205  1654761554          11.270   0.16   0.37   0.62  0.414           0\n",
      "62628  1655130050          19.083   0.57   0.59   3.92  0.611           0\n",
      "25206  1654761555          11.260   0.14   0.32   0.53  0.353           0\n",
      "62629  1655130051          19.299   0.57   0.59   3.90  0.607           0\n",
      "\n",
      "[35746 rows x 7 columns]\n"
     ]
    }
   ],
   "source": [
    "import pandas as pd\n",
    "from sklearn.utils import resample\n",
    "\n",
    "# Read the CSV file\n",
    "df = pd.read_csv('smoke_detection.csv',delimiter=';')\n",
    "# print(df.head())\n",
    "# Separate classes\n",
    "df_fire_alarm_1 = df[df['Fire Alarm'] == 1]\n",
    "df_fire_alarm_0 = df[df['Fire Alarm'] == 0]\n",
    "\n",
    "# Resample to the smallest class\n",
    "if len(df_fire_alarm_1) > len(df_fire_alarm_0):\n",
    "    df_fire_alarm_1 = resample(df_fire_alarm_1, replace=False, n_samples=len(df_fire_alarm_0), random_state=42)\n",
    "else:\n",
    "    df_fire_alarm_0 = resample(df_fire_alarm_0, replace=False, n_samples=len(df_fire_alarm_1), random_state=42)\n",
    "\n",
    "# Concatenate the resampled dataframes\n",
    "df_balanced = pd.concat([df_fire_alarm_1, df_fire_alarm_0])\n",
    "\n",
    "# Sort by UTC to maintain the original sequence\n",
    "df_balanced = df_balanced.sort_values(by='UTC')\n",
    "\n",
    "# Ensure alternating fire alarm values\n",
    "df_alternating = pd.DataFrame()\n",
    "for i in range(len(df_balanced) // 2):\n",
    "    df_alternating = pd.concat([df_alternating, df_balanced.iloc[[i]], df_balanced.iloc[[i + len(df_balanced) // 2]]])\n",
    "\n",
    "print(df_alternating)\n",
    "\n",
    "# Write to a new CSV file\n",
    "# df_alternating.to_csv('output.csv', index=False)\n"
   ]
  },
  {
   "cell_type": "code",
   "execution_count": 20,
   "metadata": {},
   "outputs": [
    {
     "name": "stdout",
     "output_type": "stream",
     "text": [
      "   Column1  Column2\n",
      "0        1        2\n",
      "1        3        4\n",
      "   Column1  Column2\n",
      "0        5        6\n",
      "1        7        8\n"
     ]
    }
   ],
   "source": [
    "import pandas as pd\n",
    "\n",
    "data = {'Column1': [1, 3], 'Column2': [2, 4]}\n",
    "df = pd.DataFrame(data)\n",
    "\n",
    "data = {'Column1': [5, 7], 'Column2': [6, 8]}\n",
    "df2 = pd.DataFrame(data)\n",
    "\n",
    "print(df)\n",
    "print(df2)  \n"
   ]
  },
  {
   "cell_type": "code",
   "execution_count": 22,
   "metadata": {},
   "outputs": [],
   "source": [
    "import pandas as pd\n",
    "\n",
    "# Read the CSV file\n",
    "df = pd.read_csv('smoke_detection.csv',delimiter=';')\n",
    "# print(df.head())\n",
    "# Separate classes\n",
    "df_fire_alarm_1 = df[df['Fire Alarm'] == 1]\n",
    "df_fire_alarm_0 = df[df['Fire Alarm'] == 0]"
   ]
  },
  {
   "cell_type": "code",
   "execution_count": 26,
   "metadata": {},
   "outputs": [
    {
     "data": {
      "text/html": [
       "<div>\n",
       "<style scoped>\n",
       "    .dataframe tbody tr th:only-of-type {\n",
       "        vertical-align: middle;\n",
       "    }\n",
       "\n",
       "    .dataframe tbody tr th {\n",
       "        vertical-align: top;\n",
       "    }\n",
       "\n",
       "    .dataframe thead th {\n",
       "        text-align: right;\n",
       "    }\n",
       "</style>\n",
       "<table border=\"1\" class=\"dataframe\">\n",
       "  <thead>\n",
       "    <tr style=\"text-align: right;\">\n",
       "      <th></th>\n",
       "      <th>UTC</th>\n",
       "      <th>Temperature[C]</th>\n",
       "      <th>PM1.0</th>\n",
       "      <th>PM2.5</th>\n",
       "      <th>NC0.5</th>\n",
       "      <th>NC1.0</th>\n",
       "      <th>Fire Alarm</th>\n",
       "    </tr>\n",
       "  </thead>\n",
       "  <tbody>\n",
       "    <tr>\n",
       "      <th>0</th>\n",
       "      <td>1654733331</td>\n",
       "      <td>20.000</td>\n",
       "      <td>0.0</td>\n",
       "      <td>0.0</td>\n",
       "      <td>0.0</td>\n",
       "      <td>0.0</td>\n",
       "      <td>0</td>\n",
       "    </tr>\n",
       "    <tr>\n",
       "      <th>1</th>\n",
       "      <td>1654733332</td>\n",
       "      <td>20.015</td>\n",
       "      <td>0.0</td>\n",
       "      <td>0.0</td>\n",
       "      <td>0.0</td>\n",
       "      <td>0.0</td>\n",
       "      <td>0</td>\n",
       "    </tr>\n",
       "    <tr>\n",
       "      <th>2</th>\n",
       "      <td>1654733333</td>\n",
       "      <td>20.029</td>\n",
       "      <td>0.0</td>\n",
       "      <td>0.0</td>\n",
       "      <td>0.0</td>\n",
       "      <td>0.0</td>\n",
       "      <td>0</td>\n",
       "    </tr>\n",
       "    <tr>\n",
       "      <th>3</th>\n",
       "      <td>1654733334</td>\n",
       "      <td>20.044</td>\n",
       "      <td>0.0</td>\n",
       "      <td>0.0</td>\n",
       "      <td>0.0</td>\n",
       "      <td>0.0</td>\n",
       "      <td>0</td>\n",
       "    </tr>\n",
       "    <tr>\n",
       "      <th>4</th>\n",
       "      <td>1654733335</td>\n",
       "      <td>20.059</td>\n",
       "      <td>0.0</td>\n",
       "      <td>0.0</td>\n",
       "      <td>0.0</td>\n",
       "      <td>0.0</td>\n",
       "      <td>0</td>\n",
       "    </tr>\n",
       "  </tbody>\n",
       "</table>\n",
       "</div>"
      ],
      "text/plain": [
       "          UTC  Temperature[C]  PM1.0  PM2.5  NC0.5  NC1.0  Fire Alarm\n",
       "0  1654733331          20.000    0.0    0.0    0.0    0.0           0\n",
       "1  1654733332          20.015    0.0    0.0    0.0    0.0           0\n",
       "2  1654733333          20.029    0.0    0.0    0.0    0.0           0\n",
       "3  1654733334          20.044    0.0    0.0    0.0    0.0           0\n",
       "4  1654733335          20.059    0.0    0.0    0.0    0.0           0"
      ]
     },
     "execution_count": 26,
     "metadata": {},
     "output_type": "execute_result"
    }
   ],
   "source": [
    "df_fire_alarm_0.head()  "
   ]
  },
  {
   "cell_type": "code",
   "execution_count": 29,
   "metadata": {},
   "outputs": [
    {
     "name": "stdout",
     "output_type": "stream",
     "text": [
      "          UTC  Temperature[C]  PM1.0  PM2.5  NC0.5  NC1.0  Fire Alarm\n",
      "0  1654736509           9.381   1.78   1.85  12.25  1.911           1\n",
      "1  1654733331          20.000   0.00   0.00   0.00  0.000           0\n",
      "2  1654736510           9.368   1.80   1.87  12.41  1.935           1\n",
      "3  1654733332          20.015   0.00   0.00   0.00  0.000           0\n",
      "4  1654736511           9.356   1.94   2.01  13.32  2.077           1\n"
     ]
    }
   ],
   "source": [
    "import pandas as pd\n",
    "\n",
    "# Read the CSV file\n",
    "df = pd.read_csv('smoke_detection.csv',delimiter=';')\n",
    "# print(df.head())\n",
    "# Separate classes\n",
    "df_fire_alarm_1 = df[df['Fire Alarm'] == 1]\n",
    "df_fire_alarm_0 = df[df['Fire Alarm'] == 0]\n",
    "\n",
    "# Create a new DataFrame by alternating rows\n",
    "alternating_df = pd.DataFrame()\n",
    "\n",
    "# Find the minimum length of the two DataFrames to handle different lengths if any\n",
    "min_len = min(len(df_fire_alarm_1), len(df_fire_alarm_0))\n",
    "\n",
    "# Interleave rows from df and df2\n",
    "for i in range(min_len):\n",
    "    alternating_df = pd.concat([alternating_df, df_fire_alarm_1.iloc[[i]], df_fire_alarm_0.iloc[[i]]])\n",
    "\n",
    "# # If there are remaining rows in df or df2, add them\n",
    "# if len(df) > min_len:\n",
    "#     alternating_df = pd.concat([alternating_df, df.iloc[min_len:]])\n",
    "# if len(df2) > min_len:\n",
    "#     alternating_df = pd.concat([alternating_df, df2.iloc[min_len:]])\n",
    "\n",
    "# Reset the index of the resulting DataFrame\n",
    "alternating_df.reset_index(drop=True, inplace=True)\n",
    "\n",
    "print(alternating_df.head())\n",
    "\n",
    "# Write the output to a CSV file\n",
    "output_file = \"interleaved_output.csv\"\n",
    "alternating_df.to_csv(output_file, index=False)"
   ]
  }
 ],
 "metadata": {
  "kernelspec": {
   "display_name": "venv",
   "language": "python",
   "name": "python3"
  },
  "language_info": {
   "codemirror_mode": {
    "name": "ipython",
    "version": 3
   },
   "file_extension": ".py",
   "mimetype": "text/x-python",
   "name": "python",
   "nbconvert_exporter": "python",
   "pygments_lexer": "ipython3",
   "version": "3.10.7"
  }
 },
 "nbformat": 4,
 "nbformat_minor": 2
}
