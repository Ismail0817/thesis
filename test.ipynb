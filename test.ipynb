{
 "cells": [
  {
   "cell_type": "code",
   "execution_count": 3,
   "metadata": {},
   "outputs": [],
   "source": [
    "import socket\n",
    "import time\n",
    "\n",
    "def send_data_to_socket():\n",
    "    client = socket.socket(socket.AF_INET, socket.SOCK_STREAM)\n",
    "    client.connect(('localhost', 5001))\n",
    "    for i in range(5):\n",
    "        client.send(b'Hello, Server! %d' % i)\n",
    "        time.sleep(1)  # Optional: wait for 1 second between each send\n",
    "    client.close()\n",
    "\n",
    "if __name__ == '__main__':\n",
    "    send_data_to_socket()"
   ]
  },
  {
   "cell_type": "code",
   "execution_count": 3,
   "metadata": {},
   "outputs": [],
   "source": [
    "import socket\n",
    "\n",
    "# Create a socket object\n",
    "s = socket.socket(socket.AF_INET, socket.SOCK_STREAM)\n",
    "\n",
    "# Connect to the server\n",
    "s.connect(('192.168.10.145', 30235))\n",
    "\n",
    "# Send some data\n",
    "message = 'Hello, server!'\n",
    "s.send(message.encode())\n",
    "\n",
    "# Close the connection\n",
    "s.close()"
   ]
  },
  {
   "cell_type": "code",
   "execution_count": 64,
   "metadata": {},
   "outputs": [
    {
     "name": "stdout",
     "output_type": "stream",
     "text": [
      "Data sent successfully!\n"
     ]
    }
   ],
   "source": [
    "import socket\n",
    "\n",
    "# Define the host and port of the server\n",
    "host = '192.168.10.145'\n",
    "port = 30235\n",
    "\n",
    "# Data to be sent (you can modify this as needed)\n",
    "data = [1, 2, 3, 4, 5]\n",
    "\n",
    "try:\n",
    "    # Create a socket object\n",
    "    s = socket.socket(socket.AF_INET, socket.SOCK_STREAM)\n",
    "\n",
    "    # Connect to the server\n",
    "    s.connect((host, port))\n",
    "\n",
    "    # Send data to the server\n",
    "    for item in data:\n",
    "        s.sendall(str(item).encode())\n",
    "\n",
    "    # Close the connection\n",
    "    s.close()\n",
    "\n",
    "    print('Data sent successfully!')\n",
    "\n",
    "except Exception as e:\n",
    "    print('Error:', e)\n"
   ]
  },
  {
   "cell_type": "code",
   "execution_count": 59,
   "metadata": {},
   "outputs": [
    {
     "name": "stdout",
     "output_type": "stream",
     "text": [
      "{\"result\":\"Task 1 deployed successfully wait for result\"}\n",
      "\n"
     ]
    }
   ],
   "source": [
    "import requests\n",
    "\n",
    "# Define the API endpoint\n",
    "url = 'http://192.168.10.145:5000/api'\n",
    "\n",
    "# Define the request payload\n",
    "payload = {'message': 'task2'}\n",
    "\n",
    "# Send the POST request\n",
    "response = requests.post(url, json=payload)\n",
    "\n",
    "# Print the response\n",
    "print(response.text)\n"
   ]
  },
  {
   "cell_type": "code",
   "execution_count": 64,
   "metadata": {},
   "outputs": [
    {
     "name": "stdout",
     "output_type": "stream",
     "text": [
      "[{'humidity': -1.3123188721706784, 'outlook_cloudy': 1.0, 'outlook_rainy': 0.0, 'outlook_sunny': 0.0, 'temperature': -1.0550514157895585, 'windy': 1}, {'humidity': -1.5367011649333093, 'outlook_cloudy': 0.0, 'outlook_rainy': 0.0, 'outlook_sunny': 1.0, 'temperature': -1.5536101281232153, 'windy': 1}, {'humidity': 0.34395674257831277, 'outlook_cloudy': 0.0, 'outlook_rainy': 1.0, 'outlook_sunny': 0.0, 'temperature': -0.11892787614178717, 'windy': 0}, {'humidity': -1.356891426940682, 'outlook_cloudy': 0.0, 'outlook_rainy': 1.0, 'outlook_sunny': 0.0, 'temperature': 0.6395178245360101, 'windy': 1}, {'humidity': 0.5359226318718506, 'outlook_cloudy': 0.0, 'outlook_rainy': 0.0, 'outlook_sunny': 1.0, 'temperature': -0.5777079678105249, 'windy': 1}, {'humidity': -0.4694923819742497, 'outlook_cloudy': 1.0, 'outlook_rainy': 0.0, 'outlook_sunny': 0.0, 'temperature': 0.13035148002504077, 'windy': 0}, {'humidity': -0.9385172196676953, 'outlook_cloudy': 1.0, 'outlook_rainy': 0.0, 'outlook_sunny': 0.0, 'temperature': 1.546470375696174, 'windy': 0}, {'humidity': 0.725355989644365, 'outlook_cloudy': 0.0, 'outlook_rainy': 0.0, 'outlook_sunny': 1.0, 'temperature': 1.045259755318188, 'windy': 1}, {'humidity': 1.3296180105604347, 'outlook_cloudy': 0.0, 'outlook_rainy': 0.0, 'outlook_sunny': 1.0, 'temperature': 1.124816996648027, 'windy': 0}, {'humidity': 1.1741205751696269, 'outlook_cloudy': 0.0, 'outlook_rainy': 1.0, 'outlook_sunny': 0.0, 'temperature': -1.5933887487881353, 'windy': 0}, {'humidity': 1.2040044471176976, 'outlook_cloudy': 0.0, 'outlook_rainy': 0.0, 'outlook_sunny': 1.0, 'temperature': 0.8384109278606073, 'windy': 0}, {'humidity': -0.29728023854469104, 'outlook_cloudy': 0.0, 'outlook_rainy': 1.0, 'outlook_sunny': 0.0, 'temperature': -0.7686453470021389, 'windy': 1}, {'humidity': 0.5982229072890141, 'outlook_cloudy': 0.0, 'outlook_rainy': 0.0, 'outlook_sunny': 1.0, 'temperature': 0.342504123571278, 'windy': 0}]\n"
     ]
    }
   ],
   "source": [
    "import requests\n",
    "import json\n",
    "\n",
    "# Data to be sent to the API\n",
    "data = [\n",
    "    {'outlook': 'cloudy', 'temperature': 23.64, 'windy': True, 'humidity': 34.6},\n",
    "    {'outlook': 'sunny', 'temperature': 21.76, 'windy': True, 'humidity': 30.17},\n",
    "    {'outlook': 'rainy', 'temperature': 27.17, 'windy': False, 'humidity': 67.3},\n",
    "    {'outlook': 'rainy', 'temperature': 30.03, 'windy': True, 'humidity': 33.72},\n",
    "    {'outlook': 'sunny', 'temperature': 25.44, 'windy': True, 'humidity': 71.09},\n",
    "    {'outlook': 'cloudy', 'temperature': 28.11, 'windy': False, 'humidity': 51.24},\n",
    "    {'outlook': 'cloudy', 'temperature': 33.45, 'windy': False, 'humidity': 41.98},\n",
    "    {'outlook': 'sunny', 'temperature': 31.56, 'windy': True, 'humidity': 74.83},\n",
    "    {'outlook': 'sunny', 'temperature': 31.86, 'windy': False, 'humidity': 86.76},\n",
    "    {'outlook': 'rainy', 'temperature': 21.61, 'windy': False, 'humidity': 83.69},\n",
    "    {'outlook': 'sunny', 'temperature': 30.78, 'windy': False, 'humidity': 84.28},\n",
    "    {'outlook': 'rainy', 'temperature': 24.72, 'windy': True, 'humidity': 54.64},\n",
    "    {'outlook': 'sunny', 'temperature': 28.91, 'windy': False, 'humidity': 72.32}\n",
    "]\n",
    "\n",
    "# Send data to the API endpoint\n",
    "response = requests.post(\"http://192.168.10.243:5005/preprocess\", json=data)\n",
    "\n",
    "# Print the response from the server\n",
    "print(response.json())"
   ]
  }
 ],
 "metadata": {
  "kernelspec": {
   "display_name": "Python 3",
   "language": "python",
   "name": "python3"
  },
  "language_info": {
   "codemirror_mode": {
    "name": "ipython",
    "version": 3
   },
   "file_extension": ".py",
   "mimetype": "text/x-python",
   "name": "python",
   "nbconvert_exporter": "python",
   "pygments_lexer": "ipython3",
   "version": "3.10.7"
  }
 },
 "nbformat": 4,
 "nbformat_minor": 2
}
