{
 "cells": [
  {
   "cell_type": "code",
   "execution_count": 3,
   "metadata": {},
   "outputs": [],
   "source": [
    "import socket\n",
    "import time\n",
    "\n",
    "def send_data_to_socket():\n",
    "    client = socket.socket(socket.AF_INET, socket.SOCK_STREAM)\n",
    "    client.connect(('localhost', 5001))\n",
    "    for i in range(5):\n",
    "        client.send(b'Hello, Server! %d' % i)\n",
    "        time.sleep(1)  # Optional: wait for 1 second between each send\n",
    "    client.close()\n",
    "\n",
    "if __name__ == '__main__':\n",
    "    send_data_to_socket()"
   ]
  },
  {
   "cell_type": "code",
   "execution_count": 3,
   "metadata": {},
   "outputs": [],
   "source": [
    "import socket\n",
    "\n",
    "# Create a socket object\n",
    "s = socket.socket(socket.AF_INET, socket.SOCK_STREAM)\n",
    "\n",
    "# Connect to the server\n",
    "s.connect(('192.168.10.145', 30235))\n",
    "\n",
    "# Send some data\n",
    "message = 'Hello, server!'\n",
    "s.send(message.encode())\n",
    "\n",
    "# Close the connection\n",
    "s.close()"
   ]
  },
  {
   "cell_type": "code",
   "execution_count": 64,
   "metadata": {},
   "outputs": [
    {
     "name": "stdout",
     "output_type": "stream",
     "text": [
      "Data sent successfully!\n"
     ]
    }
   ],
   "source": [
    "import socket\n",
    "\n",
    "# Define the host and port of the server\n",
    "host = '192.168.10.145'\n",
    "port = 30235\n",
    "\n",
    "# Data to be sent (you can modify this as needed)\n",
    "data = [1, 2, 3, 4, 5]\n",
    "\n",
    "try:\n",
    "    # Create a socket object\n",
    "    s = socket.socket(socket.AF_INET, socket.SOCK_STREAM)\n",
    "\n",
    "    # Connect to the server\n",
    "    s.connect((host, port))\n",
    "\n",
    "    # Send data to the server\n",
    "    for item in data:\n",
    "        s.sendall(str(item).encode())\n",
    "\n",
    "    # Close the connection\n",
    "    s.close()\n",
    "\n",
    "    print('Data sent successfully!')\n",
    "\n",
    "except Exception as e:\n",
    "    print('Error:', e)\n"
   ]
  },
  {
   "cell_type": "code",
   "execution_count": 80,
   "metadata": {},
   "outputs": [
    {
     "name": "stdout",
     "output_type": "stream",
     "text": [
      "{\"result\":\"Task 1 deployed successfully wait for result\"}\n",
      "\n"
     ]
    }
   ],
   "source": [
    "import requests\n",
    "\n",
    "# Define the API endpoint\n",
    "url = 'http://192.168.10.145:5000/api'\n",
    "\n",
    "# Define the request payload\n",
    "payload = {'message': 'task2'}\n",
    "\n",
    "# Send the POST request\n",
    "response = requests.post(url, json=payload)\n",
    "\n",
    "# Print the response\n",
    "print(response.text)\n"
   ]
  },
  {
   "cell_type": "code",
   "execution_count": 95,
   "metadata": {},
   "outputs": [
    {
     "name": "stdout",
     "output_type": "stream",
     "text": [
      "{'input': [{'humidity': 1.5428853244459195, 'outlook_cloudy': 0.0, 'outlook_rainy': 1.0, 'outlook_sunny': 0.0, 'temperature': 1.0704009515081625, 'windy': 0}, {'humidity': 0.6302205583068372, 'outlook_cloudy': 0.0, 'outlook_rainy': 0.0, 'outlook_sunny': 1.0, 'temperature': -0.15331805793344302, 'windy': 0}, {'humidity': -0.5991787667751138, 'outlook_cloudy': 0.0, 'outlook_rainy': 1.0, 'outlook_sunny': 0.0, 'temperature': 0.5059049787483696, 'windy': 0}, {'humidity': 0.6460572862539813, 'outlook_cloudy': 1.0, 'outlook_rainy': 0.0, 'outlook_sunny': 0.0, 'temperature': 1.3023855978478025, 'windy': 0}, {'humidity': 0.9434358443725636, 'outlook_cloudy': 0.0, 'outlook_rainy': 0.0, 'outlook_sunny': 1.0, 'temperature': -0.8570048184970201, 'windy': 1}, {'humidity': 0.08414671687015009, 'outlook_cloudy': 1.0, 'outlook_rainy': 0.0, 'outlook_sunny': 0.0, 'temperature': -0.7216804414655632, 'windy': 1}, {'humidity': 1.6783773302159248, 'outlook_cloudy': 0.0, 'outlook_rainy': 1.0, 'outlook_sunny': 0.0, 'temperature': 0.5542351134024613, 'windy': 0}, {'humidity': -0.4196958500408216, 'outlook_cloudy': 1.0, 'outlook_rainy': 0.0, 'outlook_sunny': 0.0, 'temperature': 0.7011587227509009, 'windy': 0}, {'humidity': -1.227955520824662, 'outlook_cloudy': 0.0, 'outlook_rainy': 0.0, 'outlook_sunny': 1.0, 'temperature': -0.6172873506127243, 'windy': 0}, {'humidity': -1.107713697522276, 'outlook_cloudy': 0.0, 'outlook_rainy': 1.0, 'outlook_sunny': 0.0, 'temperature': -2.3610386089323576, 'windy': 1}, {'humidity': 0.15805144729015277, 'outlook_cloudy': 1.0, 'outlook_rainy': 0.0, 'outlook_sunny': 0.0, 'temperature': 1.1535287831132004, 'windy': 1}, {'humidity': -1.369899526869429, 'outlook_cloudy': 0.0, 'outlook_rainy': 1.0, 'outlook_sunny': 0.0, 'temperature': -0.7197472360793992, 'windy': 1}, {'humidity': -0.9587311457232229, 'outlook_cloudy': 0.0, 'outlook_rainy': 1.0, 'outlook_sunny': 0.0, 'temperature': 0.1424623661495992, 'windy': 1}], 'predictions': [1, 0, 1, 0, 1, 1, 1, 0, 0, 0, 0, 1, 0]}\n"
     ]
    }
   ],
   "source": [
    "import requests\n",
    "import json\n",
    "\n",
    "# Data to be sent to the API\n",
    "data = [{'humidity': 1.5428853244459195, 'outlook_cloudy': 0.0, 'outlook_rainy': 1.0, 'outlook_sunny': 0.0, 'temperature': 1.0704009515081625, 'windy': 0}, {'humidity': 0.6302205583068372, 'outlook_cloudy': 0.0, 'outlook_rainy': 0.0, 'outlook_sunny': 1.0, 'temperature': -0.15331805793344302, 'windy': 0}, {'humidity': -0.5991787667751138, 'outlook_cloudy': 0.0, 'outlook_rainy': 1.0, 'outlook_sunny': 0.0, 'temperature': 0.5059049787483696, 'windy': 0}, {'humidity': 0.6460572862539813, 'outlook_cloudy': 1.0, 'outlook_rainy': 0.0, 'outlook_sunny': 0.0, 'temperature': 1.3023855978478025, 'windy': 0}, {'humidity': 0.9434358443725636, 'outlook_cloudy': 0.0, 'outlook_rainy': 0.0, 'outlook_sunny': 1.0, 'temperature': -0.8570048184970201, 'windy': 1}, {'humidity': 0.08414671687015009, 'outlook_cloudy': 1.0, 'outlook_rainy': 0.0, 'outlook_sunny': 0.0, 'temperature': -0.7216804414655632, 'windy': 1}, {'humidity': 1.6783773302159248, 'outlook_cloudy': 0.0, 'outlook_rainy': 1.0, 'outlook_sunny': 0.0, 'temperature': 0.5542351134024613, 'windy': 0}, {'humidity': -0.4196958500408216, 'outlook_cloudy': 1.0, 'outlook_rainy': 0.0, 'outlook_sunny': 0.0, 'temperature': 0.7011587227509009, 'windy': 0}, {'humidity': -1.227955520824662, 'outlook_cloudy': 0.0, 'outlook_rainy': 0.0, 'outlook_sunny': 1.0, 'temperature': -0.6172873506127243, 'windy': 0}, {'humidity': -1.107713697522276, 'outlook_cloudy': 0.0, 'outlook_rainy': 1.0, 'outlook_sunny': 0.0, 'temperature': -2.3610386089323576, 'windy': 1}, {'humidity': 0.15805144729015277, 'outlook_cloudy': 1.0, 'outlook_rainy': 0.0, 'outlook_sunny': 0.0, 'temperature': 1.1535287831132004, 'windy': 1}, {'humidity': -1.369899526869429, 'outlook_cloudy': 0.0, 'outlook_rainy': 1.0, 'outlook_sunny': 0.0, 'temperature': -0.7197472360793992, 'windy': 1}, {'humidity': -0.9587311457232229, 'outlook_cloudy': 0.0, 'outlook_rainy': 1.0, 'outlook_sunny': 0.0, 'temperature': 0.1424623661495992, 'windy': 1}]\n",
    "\n",
    "# Send data to the API endpoint\n",
    "response = requests.post(\"http://192.168.10.243:5005/predict\", json=data)\n",
    "\n",
    "# Print the response from the server\n",
    "print(response.json())"
   ]
  },
  {
   "cell_type": "code",
   "execution_count": 101,
   "metadata": {},
   "outputs": [
    {
     "name": "stdout",
     "output_type": "stream",
     "text": [
      "200\n",
      "{'best_estimators': {'RandomForestClassifier': 'RandomForestClassifier(n_estimators=10)', 'SVC': \"SVC(C=0.1, kernel='linear')\"}, 'best_scores': {'RandomForestClassifier': 1.0, 'SVC': 1.0}}\n"
     ]
    }
   ],
   "source": [
    "\n",
    "# Sample data\n",
    "data = [{'Fire Alarm': 0.0, 'NC0.5': -0.9740387138719555, 'NC1.0': -1.065365192950446, 'PM1.0': -0.9954259790010621, 'PM2.5': -1.0574310874177248, 'Temperature[C]': 0.9518198046677115, 'utc': 1654733415.0}, {'Fire Alarm': 0.0, 'NC0.5': -0.9753169220579497, 'NC1.0': -1.0706158244069928, 'PM1.0': -0.9954259790010621, 'PM2.5': -1.0574310874177248, 'Temperature[C]': 0.9538159000254193, 'utc': 1654733416.0}, {'Fire Alarm': 0.0, 'NC0.5': -0.9753169220579497, 'NC1.0': -1.0749913506207815, 'PM1.0': -1.0043854307052926, 'PM2.5': -1.0664159985033135, 'Temperature[C]': 0.9559655411798734, 'utc': 1654733417.0}, {'Fire Alarm': 0.0, 'NC0.5': -0.9753169220579497, 'NC1.0': -1.0828672978056013, 'PM1.0': -1.0043854307052926, 'PM2.5': -1.0754009095889023, 'Temperature[C]': 0.9579616365375807, 'utc': 1654733418.0}, {'Fire Alarm': 0.0, 'NC0.5': -0.9753169220579497, 'NC1.0': -1.0863677187766325, 'PM1.0': -1.0043854307052926, 'PM2.5': -1.0754009095889023, 'Temperature[C]': 0.9599577318952885, 'utc': 1654733419.0}, {'Fire Alarm': 0.0, 'NC0.5': -0.9753169220579497, 'NC1.0': -1.0933685607186947, 'PM1.0': -1.0043854307052926, 'PM2.5': -1.084385820674491, 'Temperature[C]': 0.9619538272529958, 'utc': 1654733420.0}, {'Fire Alarm': 0.0, 'NC0.5': -0.9753169220579497, 'NC1.0': -1.095993876446968, 'PM1.0': -1.0043854307052926, 'PM2.5': -1.084385820674491, 'Temperature[C]': 0.9641034684074505, 'utc': 1654733421.0}, {'Fire Alarm': 0.0, 'NC0.5': -0.9753169220579497, 'NC1.0': -1.1012445079035147, 'PM1.0': -1.0043854307052926, 'PM2.5': -1.084385820674491, 'Temperature[C]': 0.9660995637651577, 'utc': 1654733422.0}, {'Fire Alarm': 0.0, 'NC0.5': -0.9753169220579497, 'NC1.0': -1.10299471838903, 'PM1.0': -1.0043854307052926, 'PM2.5': -1.0933707317600796, 'Temperature[C]': 0.9680956591228655, 'utc': 1654733423.0}, {'Fire Alarm': 0.0, 'NC0.5': -0.9753169220579497, 'NC1.0': -1.1064951393600613, 'PM1.0': -1.0043854307052926, 'PM2.5': -1.0933707317600796, 'Temperature[C]': 0.9700917544805728, 'utc': 1654733424.0}, {'Fire Alarm': 0.0, 'NC0.5': -0.9753169220579497, 'NC1.0': -1.1082453498455767, 'PM1.0': -1.0133448824095233, 'PM2.5': -1.0933707317600796, 'Temperature[C]': 0.9720878498382807, 'utc': 1654733425.0}, {'Fire Alarm': 0.0, 'NC0.5': -0.9254668028041744, 'NC1.0': -0.4370396286503701, 'PM1.0': -0.8162369449164513, 'PM2.5': -0.4913816890256408, 'Temperature[C]': 0.9742374909927348, 'utc': 1654733426.0}, {'Fire Alarm': 0.0, 'NC0.5': -0.929301427362157, 'NC1.0': -0.4982969956434138, 'PM1.0': -0.8341558483249124, 'PM2.5': -0.5452911555391725, 'Temperature[C]': 0.976233586350442, 'utc': 1654733427.0}, {'Fire Alarm': 0.0, 'NC0.5': -0.9395270928501109, 'NC1.0': -0.635688518756383, 'PM1.0': -0.8699936551418345, 'PM2.5': -0.6710799107374135, 'Temperature[C]': 0.9782296817081498, 'utc': 1654733428.0}, {'Fire Alarm': 0.0, 'NC0.5': -0.9433617174080937, 'NC1.0': -0.6881948333218489, 'PM1.0': -0.8879125585502956, 'PM2.5': -0.7160044661653567, 'Temperature[C]': 0.9802257770658571, 'utc': 1654733429.0}, {'Fire Alarm': 1.0, 'NC0.5': 1.2347050315260912, 'NC1.0': 1.2326611745314475, 'PM1.0': 1.2354774953523426, 'PM2.5': 1.2337212394073778, 'Temperature[C]': -1.022625595698542, 'utc': 1654736594.0}, {'Fire Alarm': 1.0, 'NC0.5': 1.1720728304123735, 'NC1.0': 1.1661531760818573, 'PM1.0': 1.172761333422729, 'PM2.5': 1.1708268618082576, 'Temperature[C]': -1.0244681452595028, 'utc': 1654736595.0}, {'Fire Alarm': 1.0, 'NC0.5': 1.1413958339485115, 'NC1.0': 1.132899176857062, 'PM1.0': 1.1458829783100375, 'PM2.5': 1.1348872174659028, 'Temperature[C]': -1.0264642406172102, 'utc': 1654736596.0}, {'Fire Alarm': 1.0, 'NC0.5': 1.0608687182308745, 'NC1.0': 1.047138863066801, 'PM1.0': 1.0562884612677321, 'PM2.5': 1.0450381066100165, 'Temperature[C]': -1.0283067901781708, 'utc': 1654736597.0}, {'Fire Alarm': 1.0, 'NC0.5': 1.0276353053950245, 'NC1.0': 1.0112595481137328, 'PM1.0': 1.0294101061550402, 'PM2.5': 1.0180833733532506, 'Temperature[C]': -1.0303028855358785, 'utc': 1654736598.0}, {'Fire Alarm': 1.0, 'NC0.5': 1.0059057662331223, 'NC1.0': 0.9893819170447886, 'PM1.0': 1.0025317510423488, 'PM2.5': 0.9911286400964846, 'Temperature[C]': -1.0321454350968393, 'utc': 1654736599.0}, {'Fire Alarm': 1.0, 'NC0.5': 0.9892890598151971, 'NC1.0': 0.9701296017041176, 'PM1.0': 0.9846128476338877, 'PM2.5': 0.9731588179253072, 'Temperature[C]': -1.0341415304545467, 'utc': 1654736600.0}, {'Fire Alarm': 1.0, 'NC0.5': 0.95094281423537, 'NC1.0': 0.9298747605372605, 'PM1.0': 0.9487750408169655, 'PM2.5': 0.9372191735829527, 'Temperature[C]': -1.0359840800155078, 'utc': 1654736601.0}, {'Fire Alarm': 1.0, 'NC0.5': 0.95094281423537, 'NC1.0': 0.9298747605372605, 'PM1.0': 0.9487750408169655, 'PM2.5': 0.9372191735829527, 'Temperature[C]': -1.0379801753732152, 'utc': 1654736602.0}, {'Fire Alarm': 1.0, 'NC0.5': 0.9573338551653411, 'NC1.0': 0.9368756024793226, 'PM1.0': 0.9577344925211962, 'PM2.5': 0.9372191735829527, 'Temperature[C]': -1.039822724934176, 'utc': 1654736603.0}, {'Fire Alarm': 1.0, 'NC0.5': 0.9816198106992318, 'NC1.0': 0.9622536545192978, 'PM1.0': 0.9756533959296573, 'PM2.5': 0.9641739068397188, 'Temperature[C]': -1.0418188202918837, 'utc': 1654736604.0}, {'Fire Alarm': 1.0, 'NC0.5': 0.9956801007451683, 'NC1.0': 0.9780055488889373, 'PM1.0': 0.9935722993381184, 'PM2.5': 0.9821437290108961, 'Temperature[C]': -1.0436613698528445, 'utc': 1654736605.0}, {'Fire Alarm': 1.0, 'NC0.5': 1.0033493498611339, 'NC1.0': 0.9858814960737575, 'PM1.0': 1.0025317510423488, 'PM2.5': 0.9911286400964846, 'Temperature[C]': -1.045657465210552, 'utc': 1654736606.0}, {'Fire Alarm': 1.0, 'NC0.5': 0.9931236843731799, 'NC1.0': 0.9753802331606644, 'PM1.0': 0.9935722993381184, 'PM2.5': 0.9731588179253072, 'Temperature[C]': -1.0475000147715126, 'utc': 1654736607.0}]\n",
    "\n",
    "# API endpoint URL\n",
    "url = \"http://192.168.10.243:5005/train\"\n",
    "\n",
    "# Sending POST request to the API endpoint\n",
    "response = requests.post(url, json=data)\n",
    "\n",
    "# Print the response from the server\n",
    "print(response.status_code)\n",
    "print(response.json())"
   ]
  },
  {
   "cell_type": "code",
   "execution_count": 103,
   "metadata": {},
   "outputs": [
    {
     "ename": "TypeError",
     "evalue": "Object of type Response is not JSON serializable",
     "output_type": "error",
     "traceback": [
      "\u001b[0;31m---------------------------------------------------------------------------\u001b[0m",
      "\u001b[0;31mTypeError\u001b[0m                                 Traceback (most recent call last)",
      "Cell \u001b[0;32mIn [103], line 1\u001b[0m\n\u001b[0;32m----> 1\u001b[0m \u001b[38;5;28mprint\u001b[39m(\u001b[43mjson\u001b[49m\u001b[38;5;241;43m.\u001b[39;49m\u001b[43mdumps\u001b[49m\u001b[43m(\u001b[49m\u001b[43mresponse\u001b[49m\u001b[43m,\u001b[49m\u001b[43m \u001b[49m\u001b[43mindent\u001b[49m\u001b[38;5;241;43m=\u001b[39;49m\u001b[38;5;241;43m4\u001b[39;49m\u001b[43m)\u001b[49m)\n",
      "File \u001b[0;32m/Library/Frameworks/Python.framework/Versions/3.10/lib/python3.10/json/__init__.py:238\u001b[0m, in \u001b[0;36mdumps\u001b[0;34m(obj, skipkeys, ensure_ascii, check_circular, allow_nan, cls, indent, separators, default, sort_keys, **kw)\u001b[0m\n\u001b[1;32m    232\u001b[0m \u001b[38;5;28;01mif\u001b[39;00m \u001b[38;5;28mcls\u001b[39m \u001b[38;5;129;01mis\u001b[39;00m \u001b[38;5;28;01mNone\u001b[39;00m:\n\u001b[1;32m    233\u001b[0m     \u001b[38;5;28mcls\u001b[39m \u001b[38;5;241m=\u001b[39m JSONEncoder\n\u001b[1;32m    234\u001b[0m \u001b[38;5;28;01mreturn\u001b[39;00m \u001b[38;5;28;43mcls\u001b[39;49m\u001b[43m(\u001b[49m\n\u001b[1;32m    235\u001b[0m \u001b[43m    \u001b[49m\u001b[43mskipkeys\u001b[49m\u001b[38;5;241;43m=\u001b[39;49m\u001b[43mskipkeys\u001b[49m\u001b[43m,\u001b[49m\u001b[43m \u001b[49m\u001b[43mensure_ascii\u001b[49m\u001b[38;5;241;43m=\u001b[39;49m\u001b[43mensure_ascii\u001b[49m\u001b[43m,\u001b[49m\n\u001b[1;32m    236\u001b[0m \u001b[43m    \u001b[49m\u001b[43mcheck_circular\u001b[49m\u001b[38;5;241;43m=\u001b[39;49m\u001b[43mcheck_circular\u001b[49m\u001b[43m,\u001b[49m\u001b[43m \u001b[49m\u001b[43mallow_nan\u001b[49m\u001b[38;5;241;43m=\u001b[39;49m\u001b[43mallow_nan\u001b[49m\u001b[43m,\u001b[49m\u001b[43m \u001b[49m\u001b[43mindent\u001b[49m\u001b[38;5;241;43m=\u001b[39;49m\u001b[43mindent\u001b[49m\u001b[43m,\u001b[49m\n\u001b[1;32m    237\u001b[0m \u001b[43m    \u001b[49m\u001b[43mseparators\u001b[49m\u001b[38;5;241;43m=\u001b[39;49m\u001b[43mseparators\u001b[49m\u001b[43m,\u001b[49m\u001b[43m \u001b[49m\u001b[43mdefault\u001b[49m\u001b[38;5;241;43m=\u001b[39;49m\u001b[43mdefault\u001b[49m\u001b[43m,\u001b[49m\u001b[43m \u001b[49m\u001b[43msort_keys\u001b[49m\u001b[38;5;241;43m=\u001b[39;49m\u001b[43msort_keys\u001b[49m\u001b[43m,\u001b[49m\n\u001b[0;32m--> 238\u001b[0m \u001b[43m    \u001b[49m\u001b[38;5;241;43m*\u001b[39;49m\u001b[38;5;241;43m*\u001b[39;49m\u001b[43mkw\u001b[49m\u001b[43m)\u001b[49m\u001b[38;5;241;43m.\u001b[39;49m\u001b[43mencode\u001b[49m\u001b[43m(\u001b[49m\u001b[43mobj\u001b[49m\u001b[43m)\u001b[49m\n",
      "File \u001b[0;32m/Library/Frameworks/Python.framework/Versions/3.10/lib/python3.10/json/encoder.py:201\u001b[0m, in \u001b[0;36mJSONEncoder.encode\u001b[0;34m(self, o)\u001b[0m\n\u001b[1;32m    199\u001b[0m chunks \u001b[38;5;241m=\u001b[39m \u001b[38;5;28mself\u001b[39m\u001b[38;5;241m.\u001b[39miterencode(o, _one_shot\u001b[38;5;241m=\u001b[39m\u001b[38;5;28;01mTrue\u001b[39;00m)\n\u001b[1;32m    200\u001b[0m \u001b[38;5;28;01mif\u001b[39;00m \u001b[38;5;129;01mnot\u001b[39;00m \u001b[38;5;28misinstance\u001b[39m(chunks, (\u001b[38;5;28mlist\u001b[39m, \u001b[38;5;28mtuple\u001b[39m)):\n\u001b[0;32m--> 201\u001b[0m     chunks \u001b[38;5;241m=\u001b[39m \u001b[38;5;28;43mlist\u001b[39;49m\u001b[43m(\u001b[49m\u001b[43mchunks\u001b[49m\u001b[43m)\u001b[49m\n\u001b[1;32m    202\u001b[0m \u001b[38;5;28;01mreturn\u001b[39;00m \u001b[38;5;124m'\u001b[39m\u001b[38;5;124m'\u001b[39m\u001b[38;5;241m.\u001b[39mjoin(chunks)\n",
      "File \u001b[0;32m/Library/Frameworks/Python.framework/Versions/3.10/lib/python3.10/json/encoder.py:438\u001b[0m, in \u001b[0;36m_make_iterencode.<locals>._iterencode\u001b[0;34m(o, _current_indent_level)\u001b[0m\n\u001b[1;32m    436\u001b[0m         \u001b[38;5;28;01mraise\u001b[39;00m \u001b[38;5;167;01mValueError\u001b[39;00m(\u001b[38;5;124m\"\u001b[39m\u001b[38;5;124mCircular reference detected\u001b[39m\u001b[38;5;124m\"\u001b[39m)\n\u001b[1;32m    437\u001b[0m     markers[markerid] \u001b[38;5;241m=\u001b[39m o\n\u001b[0;32m--> 438\u001b[0m o \u001b[38;5;241m=\u001b[39m \u001b[43m_default\u001b[49m\u001b[43m(\u001b[49m\u001b[43mo\u001b[49m\u001b[43m)\u001b[49m\n\u001b[1;32m    439\u001b[0m \u001b[38;5;28;01myield from\u001b[39;00m _iterencode(o, _current_indent_level)\n\u001b[1;32m    440\u001b[0m \u001b[38;5;28;01mif\u001b[39;00m markers \u001b[38;5;129;01mis\u001b[39;00m \u001b[38;5;129;01mnot\u001b[39;00m \u001b[38;5;28;01mNone\u001b[39;00m:\n",
      "File \u001b[0;32m/Library/Frameworks/Python.framework/Versions/3.10/lib/python3.10/json/encoder.py:179\u001b[0m, in \u001b[0;36mJSONEncoder.default\u001b[0;34m(self, o)\u001b[0m\n\u001b[1;32m    160\u001b[0m \u001b[38;5;28;01mdef\u001b[39;00m \u001b[38;5;21mdefault\u001b[39m(\u001b[38;5;28mself\u001b[39m, o):\n\u001b[1;32m    161\u001b[0m     \u001b[38;5;124;03m\"\"\"Implement this method in a subclass such that it returns\u001b[39;00m\n\u001b[1;32m    162\u001b[0m \u001b[38;5;124;03m    a serializable object for ``o``, or calls the base implementation\u001b[39;00m\n\u001b[1;32m    163\u001b[0m \u001b[38;5;124;03m    (to raise a ``TypeError``).\u001b[39;00m\n\u001b[0;32m   (...)\u001b[0m\n\u001b[1;32m    177\u001b[0m \n\u001b[1;32m    178\u001b[0m \u001b[38;5;124;03m    \"\"\"\u001b[39;00m\n\u001b[0;32m--> 179\u001b[0m     \u001b[38;5;28;01mraise\u001b[39;00m \u001b[38;5;167;01mTypeError\u001b[39;00m(\u001b[38;5;124mf\u001b[39m\u001b[38;5;124m'\u001b[39m\u001b[38;5;124mObject of type \u001b[39m\u001b[38;5;132;01m{\u001b[39;00mo\u001b[38;5;241m.\u001b[39m\u001b[38;5;18m__class__\u001b[39m\u001b[38;5;241m.\u001b[39m\u001b[38;5;18m__name__\u001b[39m\u001b[38;5;132;01m}\u001b[39;00m\u001b[38;5;124m \u001b[39m\u001b[38;5;124m'\u001b[39m\n\u001b[1;32m    180\u001b[0m                     \u001b[38;5;124mf\u001b[39m\u001b[38;5;124m'\u001b[39m\u001b[38;5;124mis not JSON serializable\u001b[39m\u001b[38;5;124m'\u001b[39m)\n",
      "\u001b[0;31mTypeError\u001b[0m: Object of type Response is not JSON serializable"
     ]
    }
   ],
   "source": [
    "print(json.dumps(response, indent=4))"
   ]
  }
 ],
 "metadata": {
  "kernelspec": {
   "display_name": "Python 3",
   "language": "python",
   "name": "python3"
  },
  "language_info": {
   "codemirror_mode": {
    "name": "ipython",
    "version": 3
   },
   "file_extension": ".py",
   "mimetype": "text/x-python",
   "name": "python",
   "nbconvert_exporter": "python",
   "pygments_lexer": "ipython3",
   "version": "3.10.7"
  }
 },
 "nbformat": 4,
 "nbformat_minor": 2
}
