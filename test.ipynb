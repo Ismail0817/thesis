{
 "cells": [
  {
   "cell_type": "code",
   "execution_count": 3,
   "metadata": {},
   "outputs": [],
   "source": [
    "import socket\n",
    "import time\n",
    "\n",
    "def send_data_to_socket():\n",
    "    client = socket.socket(socket.AF_INET, socket.SOCK_STREAM)\n",
    "    client.connect(('localhost', 5001))\n",
    "    for i in range(5):\n",
    "        client.send(b'Hello, Server! %d' % i)\n",
    "        time.sleep(1)  # Optional: wait for 1 second between each send\n",
    "    client.close()\n",
    "\n",
    "if __name__ == '__main__':\n",
    "    send_data_to_socket()"
   ]
  },
  {
   "cell_type": "code",
   "execution_count": 3,
   "metadata": {},
   "outputs": [],
   "source": [
    "import socket\n",
    "\n",
    "# Create a socket object\n",
    "s = socket.socket(socket.AF_INET, socket.SOCK_STREAM)\n",
    "\n",
    "# Connect to the server\n",
    "s.connect(('192.168.10.145', 30235))\n",
    "\n",
    "# Send some data\n",
    "message = 'Hello, server!'\n",
    "s.send(message.encode())\n",
    "\n",
    "# Close the connection\n",
    "s.close()"
   ]
  },
  {
   "cell_type": "code",
   "execution_count": 48,
   "metadata": {},
   "outputs": [
    {
     "name": "stdout",
     "output_type": "stream",
     "text": [
      "Data sent successfully!\n"
     ]
    }
   ],
   "source": [
    "import socket\n",
    "\n",
    "# Define the host and port of the server\n",
    "host = 'localhost'\n",
    "port = 5001\n",
    "\n",
    "# Data to be sent (you can modify this as needed)\n",
    "data = [1, 2, 3, 4, 5]\n",
    "\n",
    "try:\n",
    "    # Create a socket object\n",
    "    s = socket.socket(socket.AF_INET, socket.SOCK_STREAM)\n",
    "\n",
    "    # Connect to the server\n",
    "    s.connect((host, port))\n",
    "\n",
    "    # Send data to the server\n",
    "    for item in data:\n",
    "        s.sendall(str(item).encode())\n",
    "\n",
    "    # Close the connection\n",
    "    s.close()\n",
    "\n",
    "    print('Data sent successfully!')\n",
    "\n",
    "except Exception as e:\n",
    "    print('Error:', e)\n"
   ]
  }
 ],
 "metadata": {
  "kernelspec": {
   "display_name": "Python 3",
   "language": "python",
   "name": "python3"
  },
  "language_info": {
   "codemirror_mode": {
    "name": "ipython",
    "version": 3
   },
   "file_extension": ".py",
   "mimetype": "text/x-python",
   "name": "python",
   "nbconvert_exporter": "python",
   "pygments_lexer": "ipython3",
   "version": "3.10.7"
  }
 },
 "nbformat": 4,
 "nbformat_minor": 2
}
