{
 "cells": [
  {
   "cell_type": "code",
   "execution_count": 6,
   "metadata": {},
   "outputs": [],
   "source": [
    "import socket\n",
    "import time\n",
    "\n",
    "def send_data_to_socket():\n",
    "    client = socket.socket(socket.AF_INET, socket.SOCK_STREAM)\n",
    "    client.connect(('localhost', 5001))\n",
    "    for i in range(5):\n",
    "        client.send(b'Hello, Server! %d' % i)\n",
    "        time.sleep(1)  # Optional: wait for 1 second between each send\n",
    "    client.close()\n",
    "\n",
    "if __name__ == '__main__':\n",
    "    send_data_to_socket()"
   ]
  },
  {
   "cell_type": "code",
   "execution_count": 3,
   "metadata": {},
   "outputs": [],
   "source": [
    "import socket\n",
    "\n",
    "# Create a socket object\n",
    "s = socket.socket(socket.AF_INET, socket.SOCK_STREAM)\n",
    "\n",
    "# Connect to the server\n",
    "s.connect(('192.168.10.145', 30235))\n",
    "\n",
    "# Send some data\n",
    "message = 'Hello, server!'\n",
    "s.send(message.encode())\n",
    "\n",
    "# Close the connection\n",
    "s.close()"
   ]
  }
 ],
 "metadata": {
  "kernelspec": {
   "display_name": "Python 3",
   "language": "python",
   "name": "python3"
  },
  "language_info": {
   "codemirror_mode": {
    "name": "ipython",
    "version": 3
   },
   "file_extension": ".py",
   "mimetype": "text/x-python",
   "name": "python",
   "nbconvert_exporter": "python",
   "pygments_lexer": "ipython3",
   "version": "3.10.7"
  }
 },
 "nbformat": 4,
 "nbformat_minor": 2
}
